{
 "cells": [
  {
   "cell_type": "markdown",
   "id": "cbdfd834",
   "metadata": {},
   "source": [
    "# Web scraping data about countries"
   ]
  },
  {
   "cell_type": "markdown",
   "id": "e6cb6e08",
   "metadata": {},
   "source": [
    "This is my first data analysis project, including scraping two websites using BeatufilSoup and Numpy with Pandas for data cleaning. The collected data is merged into a single dataframe and used for visualization in Power BI, available on GitHub.\n",
    "\n",
    "\n",
    "The code below works as of 08/08/2023.<br>\n",
    "\n",
    "Scraped websites:<br>\n",
    "https://en.wikipedia.org/wiki/List_of_countries_by_stock_market_capitalization <br>\n",
    "https://www.worldometers.info/world-population/population-by-country/"
   ]
  },
  {
   "cell_type": "code",
   "execution_count": null,
   "id": "28659775",
   "metadata": {},
   "outputs": [],
   "source": [
    "from bs4 import BeautifulSoup as bs\n",
    "import requests\n",
    "import re\n",
    "import pandas as pd\n",
    "import numpy as np"
   ]
  },
  {
   "cell_type": "code",
   "execution_count": null,
   "id": "8d470e3c",
   "metadata": {},
   "outputs": [],
   "source": [
    "pd.options.display.max_rows = 999"
   ]
  },
  {
   "cell_type": "markdown",
   "id": "e1d49b3a",
   "metadata": {},
   "source": [
    "## First table"
   ]
  },
  {
   "cell_type": "code",
   "execution_count": null,
   "id": "76ca612a",
   "metadata": {},
   "outputs": [],
   "source": [
    "url1 = 'https://en.wikipedia.org/wiki/List_of_countries_by_stock_market_capitalization'\n",
    "\n",
    "page1 = requests.get(url1)\n",
    "soup1 = bs(page1.text, 'html')"
   ]
  },
  {
   "cell_type": "code",
   "execution_count": null,
   "id": "e4f9e31c",
   "metadata": {},
   "outputs": [],
   "source": [
    "table1 = soup1.find_all('table')[0]"
   ]
  },
  {
   "cell_type": "code",
   "execution_count": null,
   "id": "d1349858",
   "metadata": {},
   "outputs": [],
   "source": [
    "print(table1)"
   ]
  },
  {
   "cell_type": "code",
   "execution_count": null,
   "id": "9f9bd00c",
   "metadata": {},
   "outputs": [],
   "source": [
    "titles = table1.find_all('th')"
   ]
  },
  {
   "cell_type": "code",
   "execution_count": null,
   "id": "47de25c1",
   "metadata": {},
   "outputs": [],
   "source": [
    "titles"
   ]
  },
  {
   "cell_type": "code",
   "execution_count": null,
   "id": "e66f06a0",
   "metadata": {},
   "outputs": [],
   "source": [
    "titles_names = [title.text.strip() for title in titles]"
   ]
  },
  {
   "cell_type": "code",
   "execution_count": null,
   "id": "cfb118c2",
   "metadata": {},
   "outputs": [],
   "source": [
    "titles_names"
   ]
  },
  {
   "cell_type": "code",
   "execution_count": null,
   "id": "a08d7dae",
   "metadata": {},
   "outputs": [],
   "source": [
    "#removing [digit] and adding spaces\n",
    "clean_titles = []\n",
    "for phrase in titles_names:\n",
    "    clean_title = re.sub(r'\\[\\d*\\]', '', phrase)\n",
    "    clean_title = re.sub(r'\\(', ' (', clean_title)\n",
    "    clean_title = re.sub(r'cc', 'c c', clean_title)\n",
    "    clean_titles.append(clean_title)\n",
    "print(clean_titles)"
   ]
  },
  {
   "cell_type": "code",
   "execution_count": null,
   "id": "1ac0084e",
   "metadata": {},
   "outputs": [],
   "source": [
    "df1 = pd.DataFrame(columns = clean_titles)"
   ]
  },
  {
   "cell_type": "code",
   "execution_count": null,
   "id": "3e8e9488",
   "metadata": {},
   "outputs": [],
   "source": [
    "#names of columns\n",
    "df1"
   ]
  },
  {
   "cell_type": "code",
   "execution_count": null,
   "id": "bc7a513f",
   "metadata": {
    "scrolled": true
   },
   "outputs": [],
   "source": [
    "column_values1 =  table1.find_all('tr')"
   ]
  },
  {
   "cell_type": "code",
   "execution_count": null,
   "id": "f79ff5c1",
   "metadata": {},
   "outputs": [],
   "source": [
    "#adding rows to a dataframe\n",
    "for row in column_values1[1:]:\n",
    "    row_data = row.find_all('td')\n",
    "    row_values = [data.text.strip() for data in row_data]\n",
    "    length = len(df1)\n",
    "    df1.loc[length] = row_values"
   ]
  },
  {
   "cell_type": "code",
   "execution_count": null,
   "id": "f798a021",
   "metadata": {},
   "outputs": [],
   "source": [
    "df1"
   ]
  },
  {
   "cell_type": "code",
   "execution_count": null,
   "id": "3a3cd7f5",
   "metadata": {},
   "outputs": [],
   "source": [
    "#cleaning data\n",
    "cols_to_check = df1.columns[1:]\n",
    "\n",
    "df1[cols_to_check] = df1[cols_to_check].replace({',' : ''}, regex=True)\n",
    "df1[cols_to_check] = df1[cols_to_check].replace({'\\.\\.\\.' : '0'}, regex=True)\n",
    "df1['Total market cap (in mil. US$)'] = df1['Total market cap (in mil. US$)'].replace({'\\[\\d*\\]' : '', }, regex=True)\n",
    "\n",
    "#first dataframe ready\n",
    "df1.head()"
   ]
  },
  {
   "cell_type": "markdown",
   "id": "c434223f",
   "metadata": {},
   "source": [
    "## Second table"
   ]
  },
  {
   "cell_type": "code",
   "execution_count": null,
   "id": "dc056f73",
   "metadata": {},
   "outputs": [],
   "source": [
    "url2 = 'https://www.worldometers.info/world-population/population-by-country/'\n",
    "\n",
    "page2 = requests.get(url2)\n",
    "soup2 = bs(page2.text, 'html')"
   ]
  },
  {
   "cell_type": "code",
   "execution_count": null,
   "id": "04bf13b3",
   "metadata": {
    "scrolled": true
   },
   "outputs": [],
   "source": [
    "table2 = soup2.find('table')\n",
    "table2"
   ]
  },
  {
   "cell_type": "code",
   "execution_count": null,
   "id": "cb30ee1a",
   "metadata": {},
   "outputs": [],
   "source": [
    "table2_columns = table2.find_all('th')[1:]\n",
    "table2_columns"
   ]
  },
  {
   "cell_type": "code",
   "execution_count": null,
   "id": "b75ce8b0",
   "metadata": {},
   "outputs": [],
   "source": [
    "table2_columns_names = [col.text.strip() for col in table2_columns]\n",
    "table2_columns_names"
   ]
  },
  {
   "cell_type": "code",
   "execution_count": null,
   "id": "be26d749",
   "metadata": {},
   "outputs": [],
   "source": [
    "df2 = pd.DataFrame(columns = table2_columns_names)\n",
    "df2"
   ]
  },
  {
   "cell_type": "code",
   "execution_count": null,
   "id": "acf2aba8",
   "metadata": {
    "scrolled": true
   },
   "outputs": [],
   "source": [
    "column2_values =  table2.find_all('tr')[1:]\n",
    "column2_values"
   ]
  },
  {
   "cell_type": "code",
   "execution_count": null,
   "id": "51c0cf7a",
   "metadata": {},
   "outputs": [],
   "source": [
    "#adding rows to a dataframe\n",
    "for row in column2_values:\n",
    "    row_data = row.find_all('td')[1:]\n",
    "    row_values = [data.text.strip() for data in row_data]\n",
    "    length = len(df2)\n",
    "    df2.loc[length] = row_values\n",
    "df2"
   ]
  },
  {
   "cell_type": "code",
   "execution_count": null,
   "id": "bccf9b69",
   "metadata": {},
   "outputs": [],
   "source": [
    "#removing % from values in dataframe\n",
    "percent_columns2 = ['Yearly Change', 'Urban Pop %', 'World Share']\n",
    "for col in percent_columns2:\n",
    "    df2[col] = df2[col].str.strip('%')\n",
    "\n",
    "df2"
   ]
  },
  {
   "cell_type": "code",
   "execution_count": null,
   "id": "b645712b",
   "metadata": {},
   "outputs": [],
   "source": [
    "#cleaning data\n",
    "cols2 = df2.columns\n",
    "\n",
    "df2[cols2] = df2[cols2].replace({',' : ''}, regex=True)\n",
    "df2[cols2] = df2[cols2].replace({'N.A.' : '0'}, regex=True)\n",
    "df2[cols2] = df2[cols2].replace({'' : '0'}, regex=True)"
   ]
  },
  {
   "cell_type": "code",
   "execution_count": null,
   "id": "70f267c2",
   "metadata": {},
   "outputs": [],
   "source": [
    "df2"
   ]
  },
  {
   "cell_type": "code",
   "execution_count": null,
   "id": "d6a13cc7",
   "metadata": {},
   "outputs": [],
   "source": [
    "#merging dataframes by countries\n",
    "df3 = df1.merge(df2, left_on ='Country', right_on = 'Country (or dependency)')"
   ]
  },
  {
   "cell_type": "code",
   "execution_count": null,
   "id": "d28c77bf",
   "metadata": {},
   "outputs": [],
   "source": [
    "df3"
   ]
  },
  {
   "cell_type": "code",
   "execution_count": null,
   "id": "dbedecc6",
   "metadata": {},
   "outputs": [],
   "source": [
    "#countries that are in df1, but not in df2 \n",
    "df1 [~df1['Country'].isin(df2['Country (or dependency)'])]"
   ]
  },
  {
   "cell_type": "code",
   "execution_count": null,
   "id": "6f4671d8",
   "metadata": {},
   "outputs": [],
   "source": [
    "#checking if above countries are in df2 \n",
    "df_missing_countries = df1 [~df1['Country'].isin(df2['Country (or dependency)'])]\n",
    "missing_countries = df_missing_countries['Country'].tolist()\n",
    "df2_countries = df2['Country (or dependency)'].tolist()\n",
    "\n",
    "for index, b in enumerate(df2_countries):\n",
    "    for a in missing_countries:\n",
    "        if a in b:\n",
    "            print(list((index, b)))"
   ]
  },
  {
   "cell_type": "code",
   "execution_count": null,
   "id": "9a95048c",
   "metadata": {},
   "outputs": [],
   "source": [
    "#replacing name of the country\n",
    "df2.replace('Czech Republic (Czechia)', 'Czech Republic', inplace = True)\n",
    "df2"
   ]
  },
  {
   "cell_type": "code",
   "execution_count": null,
   "id": "722c69cd",
   "metadata": {},
   "outputs": [],
   "source": [
    "#another way of replacing name of the country\n",
    "df2['Country (or dependency)'].iloc[120] = 'Palestine'\n",
    "df2"
   ]
  },
  {
   "cell_type": "code",
   "execution_count": null,
   "id": "696b478e",
   "metadata": {},
   "outputs": [],
   "source": [
    "#dataframe with Czech Republic and Palestine\n",
    "df3 = df1.merge(df2, left_on ='Country', right_on = 'Country (or dependency)')"
   ]
  },
  {
   "cell_type": "code",
   "execution_count": null,
   "id": "be6b66d5",
   "metadata": {},
   "outputs": [],
   "source": [
    "df3"
   ]
  },
  {
   "cell_type": "code",
   "execution_count": null,
   "id": "0938b392",
   "metadata": {},
   "outputs": [],
   "source": [
    "df3.loc[df3['Country'] == 'Palestine']"
   ]
  },
  {
   "cell_type": "code",
   "execution_count": null,
   "id": "441b08bc",
   "metadata": {},
   "outputs": [],
   "source": [
    "df4 = df3[['Country','Total market cap (in mil. US$)','Number of domestic companies listed', 'Population (2023)', 'Land Area (Km²)']]\n"
   ]
  },
  {
   "cell_type": "code",
   "execution_count": null,
   "id": "630d7694",
   "metadata": {},
   "outputs": [],
   "source": [
    "#converting into numerical values\n",
    "ignore = ['Country']\n",
    "df4 = (df4.set_index(ignore, append=True)\n",
    "        .astype(int)\n",
    "        .reset_index(ignore))\n",
    "df4.dtypes"
   ]
  },
  {
   "cell_type": "markdown",
   "id": "4a8e2f2b",
   "metadata": {},
   "source": [
    "#### Adding new columns"
   ]
  },
  {
   "cell_type": "code",
   "execution_count": null,
   "id": "d9f4a280",
   "metadata": {},
   "outputs": [],
   "source": [
    "df4['Capitalization per capita in USD'] = df4['Total market cap (in mil. US$)'] / df4['Population (2023)']\n",
    "df4['Capitalization per capita in USD'] = df4['Capitalization per capita in USD'] * 1e6\n",
    "df4['Capitalization per capita in USD'] = df4['Capitalization per capita in USD'].astype('int64')"
   ]
  },
  {
   "cell_type": "code",
   "execution_count": null,
   "id": "991ab39b",
   "metadata": {},
   "outputs": [],
   "source": [
    "df4['Capitalization per area (km²) in USD'] = (df4['Total market cap (in mil. US$)'].div(df4['Land Area (Km²)'])) * 1e6\n",
    "df4['Capitalization per area (km²) in USD'] = df4['Capitalization per area (km²) in USD'].astype(int)"
   ]
  },
  {
   "cell_type": "code",
   "execution_count": null,
   "id": "81b26628",
   "metadata": {},
   "outputs": [],
   "source": [
    "df4['Capitalization per area (km²) in USD'] = df4['Capitalization per area (km²) in USD'].astype('i')"
   ]
  },
  {
   "cell_type": "code",
   "execution_count": null,
   "id": "b6bf9e5c",
   "metadata": {},
   "outputs": [],
   "source": [
    "df4['number of people per domestic company'] = (df4['Population (2023)'].div(df4['Number of domestic companies listed']).replace(np.inf, 0))\n",
    "df4['number of people per domestic company'] = df4['number of people per domestic company'].astype('int64')"
   ]
  },
  {
   "cell_type": "code",
   "execution_count": null,
   "id": "84100c16",
   "metadata": {},
   "outputs": [],
   "source": [
    "df4.sort_values(by = ['Number of domestic companies listed'], ascending=False).reset_index()"
   ]
  },
  {
   "cell_type": "code",
   "execution_count": null,
   "id": "66968721",
   "metadata": {},
   "outputs": [],
   "source": [
    "df4.loc[df4['Country'] == 'Poland' ]"
   ]
  },
  {
   "cell_type": "code",
   "execution_count": null,
   "id": "ceac6f79",
   "metadata": {},
   "outputs": [],
   "source": [
    "df4"
   ]
  },
  {
   "cell_type": "code",
   "execution_count": null,
   "id": "f4787390",
   "metadata": {},
   "outputs": [],
   "source": [
    "df4.to_csv(r'D:\\Data sets\\web scrapping\\final_dataframe1.csv', index = False )"
   ]
  },
  {
   "cell_type": "code",
   "execution_count": null,
   "id": "a548e64e",
   "metadata": {},
   "outputs": [],
   "source": []
  }
 ],
 "metadata": {
  "kernelspec": {
   "display_name": "Python 3 (ipykernel)",
   "language": "python",
   "name": "python3"
  },
  "language_info": {
   "codemirror_mode": {
    "name": "ipython",
    "version": 3
   },
   "file_extension": ".py",
   "mimetype": "text/x-python",
   "name": "python",
   "nbconvert_exporter": "python",
   "pygments_lexer": "ipython3",
   "version": "3.10.9"
  }
 },
 "nbformat": 4,
 "nbformat_minor": 5
}
